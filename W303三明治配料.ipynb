{
 "cells": [
  {
   "cell_type": "code",
   "execution_count": 1,
   "metadata": {},
   "outputs": [],
   "source": [
    "%matplotlib inline\n",
    "import numpy as np\n",
    "import matplotlib.pyplot as plt\n",
    "import pandas as pd"
   ]
  },
  {
   "cell_type": "code",
   "execution_count": 2,
   "metadata": {},
   "outputs": [],
   "source": [
    "from numpy.random import randint\n",
    "from numpy.random import choice"
   ]
  },
  {
   "cell_type": "code",
   "execution_count": 3,
   "metadata": {},
   "outputs": [
    {
     "name": "stdout",
     "output_type": "stream",
     "text": [
      "想要的配料(鹹)(每個選項請用空白鍵隔開): 起司 生高麗菜 小黃瓜 玉米 紅蘿蔔 馬鈴薯泥 番茄 肉排 葡萄乾\n",
      "想要的配料(甜)(每個選項請用空白鍵隔開): 巧克力醬 草莓醬 藍莓醬 鮮奶油 花生醬 榛果醬 桔子醬 奶酥\n",
      "麵包(每個選項請用空白鍵隔開): 白吐司 全麥土司 鮮奶吐司 低鈉吐司\n",
      "如果想要鹹的... ['低鈉吐司'] + ['玉米' '生高麗菜'] + ['低鈉吐司']\n",
      "如果想要甜的... ['白吐司'] + ['草莓醬'] + ['全麥土司'] + ['鮮奶油'] + ['鮮奶吐司']\n"
     ]
    }
   ],
   "source": [
    "ham=input('想要的配料(鹹)(每個選項請用空白鍵隔開): ')\n",
    "ham2=input('想要的配料(甜)(每個選項請用空白鍵隔開): ')\n",
    "ham3=input('麵包(每個選項請用空白鍵隔開): ')\n",
    "\n",
    "spam=ham.split(' ')\n",
    "spam2=ham2.split(' ')\n",
    "spam3=ham3.split(' ')\n",
    "\n",
    "number=randint(1,4)\n",
    "\n",
    "print('如果想要鹹的...',choice(spam3,1),'+',choice(spam,number),'+',choice(spam3,1))\n",
    "print('如果想要甜的...',choice(spam3,1),'+',choice(spam2,1),'+',choice(spam3,1),'+',choice(spam2,1),'+',choice(spam3,1))\n"
   ]
  },
  {
   "cell_type": "code",
   "execution_count": null,
   "metadata": {},
   "outputs": [],
   "source": []
  }
 ],
 "metadata": {
  "kernelspec": {
   "display_name": "Python 3",
   "language": "python",
   "name": "python3"
  },
  "language_info": {
   "codemirror_mode": {
    "name": "ipython",
    "version": 3
   },
   "file_extension": ".py",
   "mimetype": "text/x-python",
   "name": "python",
   "nbconvert_exporter": "python",
   "pygments_lexer": "ipython3",
   "version": "3.7.3"
  }
 },
 "nbformat": 4,
 "nbformat_minor": 2
}
